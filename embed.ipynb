{
 "cells": [
  {
   "cell_type": "code",
   "execution_count": null,
   "metadata": {},
   "outputs": [],
   "source": [
    "# 需要在有显卡的本地环境运行\n",
    "\n",
    "import numpy as np\n",
    "import pandas as pd\n",
    "import umap.umap_ as umap\n",
    "import matplotlib.pyplot as plt\n",
    "from tqdm.notebook import tqdm\n",
    "from sklearn.cluster import KMeans"
   ]
  },
  {
   "cell_type": "code",
   "execution_count": null,
   "metadata": {},
   "outputs": [],
   "source": [
    "# 读取json文件\n",
    "input_name = \"stackoverflow-mysql.jsonl\"\n",
    "input_df = pd.read_json(input_name, lines=True)"
   ]
  },
  {
   "cell_type": "code",
   "execution_count": null,
   "metadata": {},
   "outputs": [],
   "source": [
    "# 打印列名称和类型\n",
    "print(input_df.columns)\n",
    "print(f\"Title: {type(input_df['Title'][0])}\")\n",
    "print(f\"Body: {type(input_df['Body'][0])}\")\n",
    "print(f\"Tags: {type(input_df['Tags'][0])}\")\n",
    "print(f\"Answers: {type(input_df['Answers'][0])}\")"
   ]
  },
  {
   "cell_type": "code",
   "execution_count": null,
   "metadata": {},
   "outputs": [],
   "source": [
    "# 将Title, Body, Tags, Answers合并为Text列\n",
    "input_df['Text'] = \"Title: \" + input_df['Title'] + \" Body: \" + input_df['Body'] + \" Tags: \" + input_df['Tags'] + \" Answers: \" + input_df['Answers'].apply(lambda x: \" \".join([a[\"Body\"] for a in x]))"
   ]
  },
  {
   "cell_type": "code",
   "execution_count": null,
   "metadata": {},
   "outputs": [],
   "source": [
    "# 从Hugging Face加载预训练模型\n",
    "from sentence_transformers import SentenceTransformer\n",
    "model = SentenceTransformer('sentence-transformers/all-MiniLM-L6-v2')"
   ]
  },
  {
   "cell_type": "code",
   "execution_count": null,
   "metadata": {},
   "outputs": [],
   "source": [
    "# 将Text列转换为嵌入向量Embeddings\n",
    "Embeddings = model.encode(input_df['Text'])\n",
    "print(Embeddings.shape)"
   ]
  },
  {
   "cell_type": "code",
   "execution_count": null,
   "metadata": {},
   "outputs": [],
   "source": [
    "# 使用UMAP将嵌入向量Embeddings降维到2维\n",
    "umap_model = umap.UMAP(n_components=2)\n",
    "reduced_Embeddings = umap_model.fit_transform(Embeddings)"
   ]
  },
  {
   "cell_type": "code",
   "execution_count": null,
   "metadata": {},
   "outputs": [],
   "source": [
    "# 保存降维后的嵌入向量\n",
    "np.save(\"data.npy\", reduced_Embeddings)"
   ]
  },
  {
   "cell_type": "code",
   "execution_count": null,
   "metadata": {},
   "outputs": [],
   "source": [
    "# 随机绘制数据点\n",
    "point_nums = 2048\n",
    "data = np.load(\"data.npy\")\n",
    "fig, axs = plt.subplots(4, 4, figsize=(15, 12))\n",
    "fig.suptitle(f'Plot Scatter Graphs (Random {point_nums} Points)', fontsize=16)\n",
    "\n",
    "for i in range(4):\n",
    "    for j in range(4):\n",
    "        indices = np.random.choice(data.shape[0], point_nums, replace=False)\n",
    "        axs[i, j].scatter(data[indices, 0], data[indices, 1], s=5)\n",
    "        axs[i, j].set_title(f'Plot {i * 4 + j + 1}')\n",
    "\n",
    "plt.tight_layout(rect=[0, 0, 1, 0.99])\n",
    "plt.show()"
   ]
  },
  {
   "cell_type": "code",
   "execution_count": null,
   "metadata": {},
   "outputs": [],
   "source": [
    "# 绘制肘部图\n",
    "SSE = []\n",
    "data = np.load(\"data.npy\")\n",
    "k_range = range(2, 60)\n",
    "\n",
    "for k in tqdm(k_range, desc=\"KMeans\"):\n",
    "    kmeans = KMeans(n_clusters=k, init='k-means++')\n",
    "    kmeans.fit(data)\n",
    "    SSE.append(kmeans.inertia_)"
   ]
  },
  {
   "cell_type": "code",
   "execution_count": null,
   "metadata": {},
   "outputs": [],
   "source": [
    "plt.figure(figsize=(10, 8))\n",
    "plt.plot(k_range, SSE, marker=\"o\")\n",
    "plt.xlabel(\"Number of clusters (k)\")\n",
    "plt.ylabel(\"SSE\")\n",
    "plt.title(\"Elbow Method\")\n",
    "plt.axvline(x=16, ymax=0.13, color=\"orange\", linestyle=\"--\", label=\"Optimal k = 16\")\n",
    "plt.legend()\n",
    "plt.tight_layout()\n",
    "plt.show()"
   ]
  }
 ],
 "metadata": {
  "kernelspec": {
   "display_name": "base",
   "language": "python",
   "name": "python3"
  },
  "language_info": {
   "codemirror_mode": {
    "name": "ipython",
    "version": 3
   },
   "file_extension": ".py",
   "mimetype": "text/x-python",
   "name": "python",
   "nbconvert_exporter": "python",
   "pygments_lexer": "ipython3",
   "version": "3.12.7"
  }
 },
 "nbformat": 4,
 "nbformat_minor": 2
}
